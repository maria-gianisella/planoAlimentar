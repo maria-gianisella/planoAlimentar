{
 "cells": [
  {
   "cell_type": "markdown",
   "id": "2c1eba8a",
   "metadata": {},
   "source": [
    "#### Importação das bibliotecas necessárias\n",
    "\n",
    "Nesta célula, são importadas as bibliotecas essenciais para manipulação de dados e geração de valores aleatórios:\n",
    "- `pandas` para manipulação de tabelas e DataFrames,\n",
    "- `numpy` para operações numéricas,\n",
    "- `random` para sorteios e geração de números aleatórios."
   ]
  },
  {
   "cell_type": "code",
   "execution_count": null,
   "id": "228e7982",
   "metadata": {},
   "outputs": [],
   "source": [
    "import pandas as pd\n",
    "import numpy as np\n",
    "import random"
   ]
  },
  {
   "cell_type": "markdown",
   "id": "47441396",
   "metadata": {},
   "source": [
    "#### Leitura dos dados e preparação dos DataFrames\n",
    "\n",
    "Aqui, os arquivos de alimentos e nutrientes são lidos. Em seguida:\n",
    "- O código do alimento recebe o prefixo 'BR'.\n",
    "- Os DataFrames são mesclados para unir as informações.\n",
    "- É criada uma coluna de quantidade aleatória para cada alimento.\n",
    "- Inicializa-se o valor energético total como zero.\n",
    "- Define-se um dicionário para separar os alimentos em grupos alimentares."
   ]
  },
  {
   "cell_type": "code",
   "execution_count": null,
   "id": "5a6d92cc",
   "metadata": {},
   "outputs": [],
   "source": [
    "alimentos = pd.read_excel('alimentos.xlsx')\n",
    "nutrientes = pd.read_excel('alimento_nut_all.xlsx')\n",
    "\n",
    "nutrientes['cod_alimento'] = nutrientes['cod_alimento'].apply(lambda x: 'BR' + x)\n",
    "\n",
    "alimentos = pd.merge(alimentos, nutrientes, on='cod_alimento', how='inner')\n",
    "alimentos['quantidade'] = random.uniform(0.1, 1.5)\n",
    "alimentos['valor_energetico_total'] = 0\n",
    "\n",
    "grupos_alimentares = {\n",
    "   'proteina': [69, 70, 74, 78],\n",
    "   'vegetal': [66, 67, 84, 85],\n",
    "   'carboidrato': [75, 76, 77, 82],\n",
    "   'bebida': [72]\n",
    "}"
   ]
  },
  {
   "cell_type": "markdown",
   "id": "20f1d228",
   "metadata": {},
   "source": [
    "#### Separação dos alimentos por grupos\n",
    "\n",
    "Esta célula filtra o DataFrame de alimentos em quatro grupos principais: proteína, vegetal, carboidrato e bebida, conforme os IDs definidos anteriormente."
   ]
  },
  {
   "cell_type": "code",
   "execution_count": null,
   "id": "4416f12c",
   "metadata": {},
   "outputs": [],
   "source": [
    "grupo_proteina = alimentos[alimentos['grupo_id'].isin(grupos_alimentares['proteina'])]\n",
    "grupo_vegetal = alimentos[alimentos['grupo_id'].isin(grupos_alimentares['vegetal'])]\n",
    "grupo_carboidrato = alimentos[alimentos['grupo_id'].isin(grupos_alimentares['carboidrato'])]\n",
    "grupo_bebida = alimentos[alimentos['grupo_id'].isin(grupos_alimentares['bebida'])]"
   ]
  },
  {
   "cell_type": "markdown",
   "id": "61ccfa8b",
   "metadata": {},
   "source": [
    "#### Função para calcular o valor energético total de uma refeição\n",
    "\n",
    "Define uma função que recebe um DataFrame de refeição e calcula o valor energético total multiplicando a energia média de cada alimento pela sua quantidade."
   ]
  },
  {
   "cell_type": "code",
   "execution_count": null,
   "id": "747f2676",
   "metadata": {},
   "outputs": [],
   "source": [
    "def calcular_valor_energetico(refeicao):\n",
    "    # Calcular a quantidade total e o valor energético total para a refeição\n",
    "    valor_energetico_total = 0\n",
    "    for i in range(refeicao.shape[0]):\n",
    "        valor_energetico_total += refeicao.iloc[i]['energia1_media'] * refeicao.iloc[i]['quantidade']\n",
    "    return valor_energetico_total"
   ]
  },
  {
   "cell_type": "markdown",
   "id": "7e73ebb0",
   "metadata": {},
   "source": [
    "#### Geração de casos iniciais de refeições\n",
    "\n",
    "Esta função cria 50 refeições aleatórias, selecionando alimentos dos diferentes grupos, atribuindo quantidades aleatórias e calculando o valor energético total de cada refeição."
   ]
  },
  {
   "cell_type": "code",
   "execution_count": null,
   "id": "5d44cf75",
   "metadata": {},
   "outputs": [],
   "source": [
    "def gerar_casos_iniciais():\n",
    "    casos = []\n",
    "\n",
    "    for _ in range(50):\n",
    "        refeicao = pd.DataFrame(columns=alimentos.columns)\n",
    "        quant = 0\n",
    "\n",
    "        # Selecionar aleatoriamente um alimento de proteína\n",
    "        alimento_proteina = random.choice(grupo_proteina['cod_alimento'].values.tolist())\n",
    "        refeicao = pd.concat([refeicao, alimentos[alimentos['cod_alimento'] == alimento_proteina]])\n",
    "        \n",
    "        # Selecionar aleatoriamente dois ou mais vegetais\n",
    "        alimentos_vegetais = random.sample(grupo_vegetal['cod_alimento'].tolist(), random.randint(2, 4))\n",
    "        refeicao = pd.concat([refeicao, alimentos[alimentos['cod_alimento'].isin(alimentos_vegetais)]])\n",
    "        \n",
    "        # Selecionar aleatoriamente um ou mais carboidratos\n",
    "        alimentos_carboidratos = random.sample(grupo_carboidrato['cod_alimento'].tolist(), random.randint(1, 2))\n",
    "        refeicao = pd.concat([refeicao, alimentos[alimentos['cod_alimento'].isin(alimentos_carboidratos)]])\n",
    "        \n",
    "        # Selecionar aleatoriamente uma bebida\n",
    "        alimento_bebida = random.choice(grupo_bebida['cod_alimento'].tolist())\n",
    "        refeicao = pd.concat([refeicao, alimentos[alimentos['cod_alimento'] == alimento_bebida]])\n",
    "\n",
    "        quant = 2 + alimentos_vegetais.__len__() + alimentos_carboidratos.__len__()\n",
    "        refeicao['quantidade'] = [random.uniform(0.1, 1.5) for _ in range(quant)]\n",
    "        valor_energetico_total = calcular_valor_energetico(refeicao)  \n",
    "\n",
    "        # Adicionar quantidade total e valor energético total à refeição\n",
    "        refeicao['valor_energetico_total'] = valor_energetico_total\n",
    "                \n",
    "        casos.append(refeicao.reset_index(drop=True))\n",
    "    return casos"
   ]
  },
  {
   "cell_type": "markdown",
   "id": "1e9e5a22",
   "metadata": {},
   "source": [
    "#### Seleção do caso mais próximo do valor energético desejado\n",
    "\n",
    "Gera os casos iniciais, solicita ao usuário o valor energético médio e o limiar de tolerância, e identifica qual refeição gerada está mais próxima do valor informado."
   ]
  },
  {
   "cell_type": "code",
   "execution_count": null,
   "id": "78f7fbda",
   "metadata": {},
   "outputs": [],
   "source": [
    "base_de_casos = gerar_casos_iniciais()\n",
    "\n",
    "energia1_med = float(input(\"Insira o valor médio de energia (em kj): \"))\n",
    "limiar = float(input(\"Insira o limiar: \"))\n",
    "\n",
    "diferencas = []\n",
    "index = []\n",
    "i = 0\n",
    "dicionario = {}\n",
    "\n",
    "for caso in base_de_casos:\n",
    "    dif = abs(caso['valor_energetico_total'].values[0] - energia1_med)\n",
    "    diferencas.append(dif)\n",
    "    index.append(i)\n",
    "    dicionario[i] = dif\n",
    "    i += 1\n",
    "\n",
    "dicionario = dict(sorted(dicionario.items(), key=lambda item: item[1]))\n",
    "\n",
    "caso_mais_proximo = base_de_casos[list(dicionario.keys())[0]].copy()"
   ]
  },
  {
   "cell_type": "markdown",
   "id": "cd88fe00",
   "metadata": {},
   "source": [
    "#### Adaptação da refeição para se aproximar do valor energético desejado\n",
    "\n",
    "Verifica se o valor energético da refeição está dentro do intervalo aceitável. Se não estiver, ajusta as quantidades dos alimentos proporcionalmente para tentar atingir o valor desejado."
   ]
  },
  {
   "cell_type": "code",
   "execution_count": null,
   "id": "7423e45d",
   "metadata": {},
   "outputs": [],
   "source": [
    "def adaptar_refeicao(caso_mais_proximo, energia1_med, limiar):\n",
    "    if caso_mais_proximo['valor_energetico_total'].values[0] < energia1_med + limiar and caso_mais_proximo['valor_energetico_total'].values[0] > energia1_med - limiar:\n",
    "        print(\"Caso aceito\")\n",
    "        print(caso_mais_proximo)\n",
    "    else:\n",
    "        caso_mais_proximo.reset_index(drop=True, inplace=True)\n",
    "        caso_mais_proximo.index += 1\n",
    "\n",
    "        print(\"Caso rejeitado. Fazendo ajustes...\")\n",
    "        porc = energia1_med / caso_mais_proximo['valor_energetico_total'].values[0]\n",
    "\n",
    "        for i in range(caso_mais_proximo.shape[0]):\n",
    "            caso_mais_proximo['quantidade'].iloc[i] *= porc\n",
    "\n",
    "        caso_mais_proximo['valor_energetico_total'] = calcular_valor_energetico(caso_mais_proximo)\n",
    "\n",
    "adaptar_refeicao(caso_mais_proximo, energia1_med, limiar)\n",
    "print(caso_mais_proximo)"
   ]
  },
  {
   "cell_type": "markdown",
   "id": "ad07dd26",
   "metadata": {},
   "source": [
    "#### Avaliação da refeição pelo usuário e possibilidade de ajuste\n",
    "\n",
    "Permite ao usuário aceitar ou rejeitar a refeição sugerida. Caso rejeite, pode substituir um alimento por outro do mesmo grupo, recalculando o valor energético e ajustando novamente se necessário."
   ]
  },
  {
   "cell_type": "code",
   "execution_count": null,
   "id": "60e0ec6e",
   "metadata": {},
   "outputs": [],
   "source": [
    "avaliacao_usuario = 0\n",
    "\n",
    "while avaliacao_usuario != 1:\n",
    "    avaliacao_usuario = input(\"A refeicao gerada, é atrativa? (0/1): \")\n",
    "\n",
    "    if avaliacao_usuario == '1':\n",
    "        print(\"Refeição aceita na base de casos\")\n",
    "        base_de_casos.append(caso_mais_proximo)\n",
    "        break\n",
    "    else:\n",
    "        print(\"Refeição rejeitada na base de casos\")\n",
    "\n",
    "        ingrediente = str(input(\"Insira o código do alimento que deseja alterar (exemplo: BRC0001B): \"))\n",
    "        print(caso_mais_proximo['cod_alimento'].values.tolist())\n",
    "        if ingrediente not in (caso_mais_proximo['cod_alimento'].values).tolist():\n",
    "            print(\"Alimento não encontrado\")\n",
    "            break\n",
    "        alimento = caso_mais_proximo[caso_mais_proximo['cod_alimento'] == ingrediente]\n",
    "        grupo = alimento[alimento['cod_alimento'] == ingrediente]['grupo_id'].values[0]\n",
    "\n",
    "        index_alimento = caso_mais_proximo[caso_mais_proximo['cod_alimento'] == ingrediente].index[0]\n",
    "        caso_mais_proximo = caso_mais_proximo.drop(index_alimento)\n",
    "\n",
    "        if grupo in grupos_alimentares['proteina']:\n",
    "            alimento_proteina = pd.DataFrame(columns=caso_mais_proximo.columns)\n",
    "            alimento_proteina = random.choice(grupo_proteina['cod_alimento'].values.tolist())\n",
    "            caso_mais_proximo = pd.concat([caso_mais_proximo, alimentos[alimentos['cod_alimento'] == alimento_proteina]])\n",
    "        if grupo in grupos_alimentares['vegetal']:\n",
    "            alimento_vegetal = pd.DataFrame(columns=caso_mais_proximo.columns)\n",
    "            alimento_vegetal = random.choice(grupo_vegetal['cod_alimento'].values.tolist())\n",
    "            caso_mais_proximo = pd.concat([caso_mais_proximo, alimentos[alimentos['cod_alimento'] == alimento_vegetal]])\n",
    "        if grupo in grupos_alimentares['carboidrato']:\n",
    "            alimento_carboidrato = pd.DataFrame(columns=caso_mais_proximo.columns)\n",
    "            alimento_carboidrato = random.choice(grupo_carboidrato['cod_alimento'].values.tolist())\n",
    "            caso_mais_proximo = pd.concat([caso_mais_proximo, alimentos[alimentos['cod_alimento'] == alimento_carboidrato]])\n",
    "        if grupo in grupos_alimentares['bebida']:\n",
    "            alimento_bebida = pd.DataFrame(columns=caso_mais_proximo.columns)\n",
    "            alimento_bebida = random.choice(grupo_bebida['cod_alimento'].values.tolist())\n",
    "            caso_mais_proximo = pd.concat([caso_mais_proximo, alimentos[alimentos['cod_alimento'] == alimento_bebida]])\n",
    "        \n",
    "        caso_mais_proximo['valor_energetico_total'] = calcular_valor_energetico(caso_mais_proximo)\n",
    "        adaptar_refeicao(caso_mais_proximo, energia1_med, limiar)\n",
    "        print(\"Nova refeição:\")\n",
    "        print(caso_mais_proximo)"
   ]
  },
  {
   "cell_type": "markdown",
   "id": "f9f58e6e",
   "metadata": {},
   "source": [
    "#### Exibição dos alimentos e nutrientes do plano alimentar\n",
    "\n",
    "Calcula e exibe a energia total (convertida para outra unidade), além dos principais nutrientes da refeição final. Mostra também a lista de alimentos e suas quantidades."
   ]
  },
  {
   "cell_type": "code",
   "execution_count": null,
   "id": "71d728de",
   "metadata": {},
   "outputs": [],
   "source": [
    "energia = caso_mais_proximo['valor_energetico_total'].values[0]\n",
    "energia = energia * 0.239005736\n",
    "carboidratos = 0\n",
    "proteinas = 0\n",
    "lipidios = 0\n",
    "fibras = 0\n",
    "vit_c = 0\n",
    "\n",
    "alimento = pd.DataFrame(columns= 'Código Alimento Qtde Valor'.split())\n",
    "\n",
    "for i in range(caso_mais_proximo.shape[0]):\n",
    "\n",
    "    alimento = pd.concat([alimento, pd.DataFrame({'Código': [caso_mais_proximo.iloc[i]['cod_alimento']], 'Alimento': [caso_mais_proximo.iloc[i]['nome_pt_br']], 'Qtde': [caso_mais_proximo.iloc[i]['quantidade']], 'Valor': [caso_mais_proximo.iloc[i]['energia2_media'] * caso_mais_proximo.iloc[i]['quantidade']]})])\n",
    "   \n",
    "    carboidratos += caso_mais_proximo.iloc[i]['carboidrato_total_media'] * caso_mais_proximo.iloc[i]['quantidade']\n",
    "    proteinas += caso_mais_proximo.iloc[i]['proteina_media'] * caso_mais_proximo.iloc[i]['quantidade']\n",
    "    lipidios += caso_mais_proximo.iloc[i]['lipidios_media'] * caso_mais_proximo.iloc[i]['quantidade']\n",
    "    fibras += caso_mais_proximo.iloc[i]['fibra_alimentar_media'] * caso_mais_proximo.iloc[i]['quantidade']\n",
    "    vit_c += caso_mais_proximo.iloc[i]['vitamina_C_media'] * caso_mais_proximo.iloc[i]['quantidade']\n",
    "\n",
    "data = {\n",
    "    \"Nutriente\": [\"Energia\", \"Carboidratos\", \"Proteínas\", \"Lipídios\", \"Fibras\", \"Vitamina C\"],\n",
    "    \"Valor e Unidade\": [f\"{energia:.2f} {caso_mais_proximo['energia2_unidade'].iloc[0]}\",\n",
    "                        f\"{carboidratos:.2f} {caso_mais_proximo['carboidrato_total_unidade'].iloc[0]}\",\n",
    "                        f\"{proteinas:.2f} {caso_mais_proximo['proteina_unidade'].iloc[0]}\",\n",
    "                        f\"{lipidios:.2f} {caso_mais_proximo['lipidios_unidade'].iloc[0]}\",\n",
    "                        f\"{fibras:.2f} {caso_mais_proximo['fibra_alimentar_unidade'].iloc[0]}\",\n",
    "                        f\"{vit_c:.2f} {caso_mais_proximo['vitamina_C_unidade'].iloc[0]}\"]\n",
    "}\n",
    "\n",
    "print(\"Alimentos do plano alimentar\")\n",
    "print(alimento.to_string(index=False))\n",
    "df = pd.DataFrame(data)\n",
    "print(\"Nutrientes do plano alimentar\")\n",
    "print(df.to_string(index=False))"
   ]
  }
 ],
 "metadata": {
  "language_info": {
   "name": "python"
  }
 },
 "nbformat": 4,
 "nbformat_minor": 5
}
